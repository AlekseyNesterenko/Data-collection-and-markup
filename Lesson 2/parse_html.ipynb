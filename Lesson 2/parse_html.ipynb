{
 "cells": [
  {
   "cell_type": "code",
   "execution_count": 1,
   "metadata": {},
   "outputs": [],
   "source": [
    "from bs4 import BeautifulSoup\n",
    "import requests\n",
    "import pandas as pd"
   ]
  },
  {
   "cell_type": "code",
   "execution_count": 2,
   "metadata": {},
   "outputs": [],
   "source": [
    "website = 'https://apteka.ru/category/allergy/pollenallergy/'"
   ]
  },
  {
   "cell_type": "code",
   "execution_count": 3,
   "metadata": {},
   "outputs": [],
   "source": [
    "page = requests.get(website)"
   ]
  },
  {
   "cell_type": "code",
   "execution_count": 4,
   "metadata": {},
   "outputs": [
    {
     "data": {
      "text/plain": [
       "200"
      ]
     },
     "execution_count": 4,
     "metadata": {},
     "output_type": "execute_result"
    }
   ],
   "source": [
    "page.status_code"
   ]
  },
  {
   "cell_type": "code",
   "execution_count": 5,
   "metadata": {},
   "outputs": [
    {
     "data": {
      "text/plain": [
       "str"
      ]
     },
     "execution_count": 5,
     "metadata": {},
     "output_type": "execute_result"
    }
   ],
   "source": [
    "type(page.text)"
   ]
  },
  {
   "cell_type": "code",
   "execution_count": 6,
   "metadata": {},
   "outputs": [
    {
     "data": {
      "text/plain": [
       "bytes"
      ]
     },
     "execution_count": 6,
     "metadata": {},
     "output_type": "execute_result"
    }
   ],
   "source": [
    "type(page.content)"
   ]
  },
  {
   "cell_type": "code",
   "execution_count": 7,
   "metadata": {},
   "outputs": [],
   "source": [
    "soup = BeautifulSoup(page.content, 'html.parser')"
   ]
  },
  {
   "cell_type": "code",
   "execution_count": null,
   "metadata": {},
   "outputs": [],
   "source": [
    "page.text"
   ]
  },
  {
   "cell_type": "code",
   "execution_count": null,
   "metadata": {},
   "outputs": [],
   "source": [
    "soup"
   ]
  },
  {
   "cell_type": "code",
   "execution_count": 11,
   "metadata": {},
   "outputs": [],
   "source": [
    "result = soup.find_all('div', ('class', 'catalog-card card-flex'))"
   ]
  },
  {
   "cell_type": "code",
   "execution_count": 12,
   "metadata": {},
   "outputs": [
    {
     "data": {
      "text/plain": [
       "25"
      ]
     },
     "execution_count": 12,
     "metadata": {},
     "output_type": "execute_result"
    }
   ],
   "source": [
    "len(result)"
   ]
  },
  {
   "cell_type": "code",
   "execution_count": 13,
   "metadata": {},
   "outputs": [
    {
     "data": {
      "text/plain": [
       "bs4.element.ResultSet"
      ]
     },
     "execution_count": 13,
     "metadata": {},
     "output_type": "execute_result"
    }
   ],
   "source": [
    "type(result)"
   ]
  },
  {
   "cell_type": "code",
   "execution_count": 14,
   "metadata": {},
   "outputs": [],
   "source": [
    "url_1 = 'https://apteka.ru'"
   ]
  },
  {
   "cell_type": "code",
   "execution_count": 19,
   "metadata": {},
   "outputs": [],
   "source": [
    "url_2 = []\n",
    "for i in result:\n",
    "    url_2.append(i.find('a').get('href'))"
   ]
  },
  {
   "cell_type": "code",
   "execution_count": 20,
   "metadata": {},
   "outputs": [
    {
     "data": {
      "text/plain": [
       "25"
      ]
     },
     "execution_count": 20,
     "metadata": {},
     "output_type": "execute_result"
    }
   ],
   "source": [
    "len(url_2)"
   ]
  },
  {
   "cell_type": "code",
   "execution_count": 21,
   "metadata": {},
   "outputs": [
    {
     "data": {
      "text/plain": [
       "['/product/suprastineks-5-mg-7-sht-tabletki-pokrytye-plenochnoj-obolochkoj-5e326b1cca7bdc000192e34f/',\n",
       " '/product/sensinor-001-n10-tabl-pplenoboloch-6257f352e51369e2932aa034/',\n",
       " '/product/loratadin-akrixin-10-mg-7-sht-tabletki-5e326d91f5a9ae000140acc3/',\n",
       " '/product/xloropiramin-25-mg-20-sht-blister-tabletki-5e326dbb65b5ab0001653cb0/',\n",
       " '/product/czetirizin-reneval-10-mg-10-sht-tabletki-pokrytye-plenochnoj-obolochkoj-624eb41ac77e3b395a4aaf2e/',\n",
       " '/product/allegra-120-mg-10-sht-tabletki-pokrytye-plenochnoj-obolochkoj-5e32754465b5ab00016573b0/',\n",
       " '/product/beksist-120-mg-20-sht-tabletki-pokrytye-plenochnoj-obolochkoj-5e326e00ca7bdc000192f992/',\n",
       " '/product/fenistil-01-flakon-emulsiya-dlya-naruzhnogo-primeneniya-8-ml-64afae24ef309f34a66afdaa/',\n",
       " '/product/montlezir-5-mg--10-mg-10-sht-tabletki-pokrytye-plenochnoj-obolochkoj-5e43e1fa0233ad000105b257/',\n",
       " '/product/ksizal-5-mg-10-sht-tabletki-pokrytye-plenochnoj-obolochkoj-5e3263fbf5a9ae000140640a/',\n",
       " '/product/lordestin-5-mg-10-sht-tabletki-pokrytye-plenochnoj-obolochkoj-5e326ce065b5ab00016535f2/',\n",
       " '/product/fenistil-01-gel-dlya-naruzhnogo-primeneniya-30-gr-646ca6b77611b352b214c405/',\n",
       " '/product/feniczitol-1-mgml-flakon-kapli-dlya-priema-vnutr-20-ml-62bc00b88e5448c60f981acc/',\n",
       " '/product/lazamirt-5-mg-10-sht-blister-tabletki-pokrytye-plenochnoj-obolochkoj-661ce6feb93339cc8bee8083/',\n",
       " '/product/blogir-3-5-mg-10-sht-tabletki-dlya-rassasyvaniya-5e326fa065b5ab0001654dec/',\n",
       " '/product/oku-oku-5-ml-flakon-kapli-glaznye-65dc53012245a7fc2cd041d1/',\n",
       " '/product/allervej-5-mg-10-sht-tabletki-pokrytye-plenochnoj-obolochkoj-5e32757965b5ab000165753d/',\n",
       " '/product/levoczetirizin-5-mg-10-sht-tabletki-pokrytye-plenochnoj-obolochkoj-blister-64d6291b946be1aa62a3310f/',\n",
       " '/product/dimetinden-akrixin-01-gel-dlya-naruzhnogo-primeneniya-30-gr-5e32725865b5ab0001655e44/',\n",
       " '/product/fri-al-5-mg-10-sht-tabletki-pokrytye-plenochnoj-obolochkoj-63e3af0e104440ff9c3ebe7e/',\n",
       " '/product/zirtek-10-mg-20-sht-tabletki-pokrytye-plenochnoj-obolochkoj-5e327140f5a9ae000140ca10/',\n",
       " '/product/dezloratadin-5-mg-10-sht-tabletki-pokrytye-plenochnoj-obolochkoj-5ecb6a5931307a0001f52c03/',\n",
       " '/product/czetrin-10-mg-20-sht-tabletki-pokrytye-plenochnoj-obolochkoj-5e3264df65b5ab000164f758/',\n",
       " '/product/czetirizin-akos-10-mg-20-sht-tabletki-pokrytye-plenochnoj-obolochkoj-60c0a2c1327b6aa0714c1d24/',\n",
       " '/product/czetirizin-verteks-10-mg-20-sht-tabletki-pokrytye-plenochnoj-obolochkoj-5e327158ca7bdc000193142b/']"
      ]
     },
     "execution_count": 21,
     "metadata": {},
     "output_type": "execute_result"
    }
   ],
   "source": [
    "url_2"
   ]
  },
  {
   "cell_type": "code",
   "execution_count": 22,
   "metadata": {},
   "outputs": [],
   "source": [
    "import urllib.parse"
   ]
  },
  {
   "cell_type": "code",
   "execution_count": 23,
   "metadata": {},
   "outputs": [],
   "source": [
    "url_joined = []\n",
    "for link in url_2:\n",
    "    url_joined.append(urllib.parse.urljoin(url_1, link))"
   ]
  },
  {
   "cell_type": "code",
   "execution_count": 24,
   "metadata": {},
   "outputs": [
    {
     "data": {
      "text/plain": [
       "['https://apteka.ru/product/suprastineks-5-mg-7-sht-tabletki-pokrytye-plenochnoj-obolochkoj-5e326b1cca7bdc000192e34f/',\n",
       " 'https://apteka.ru/product/sensinor-001-n10-tabl-pplenoboloch-6257f352e51369e2932aa034/',\n",
       " 'https://apteka.ru/product/loratadin-akrixin-10-mg-7-sht-tabletki-5e326d91f5a9ae000140acc3/',\n",
       " 'https://apteka.ru/product/xloropiramin-25-mg-20-sht-blister-tabletki-5e326dbb65b5ab0001653cb0/',\n",
       " 'https://apteka.ru/product/czetirizin-reneval-10-mg-10-sht-tabletki-pokrytye-plenochnoj-obolochkoj-624eb41ac77e3b395a4aaf2e/',\n",
       " 'https://apteka.ru/product/allegra-120-mg-10-sht-tabletki-pokrytye-plenochnoj-obolochkoj-5e32754465b5ab00016573b0/',\n",
       " 'https://apteka.ru/product/beksist-120-mg-20-sht-tabletki-pokrytye-plenochnoj-obolochkoj-5e326e00ca7bdc000192f992/',\n",
       " 'https://apteka.ru/product/fenistil-01-flakon-emulsiya-dlya-naruzhnogo-primeneniya-8-ml-64afae24ef309f34a66afdaa/',\n",
       " 'https://apteka.ru/product/montlezir-5-mg--10-mg-10-sht-tabletki-pokrytye-plenochnoj-obolochkoj-5e43e1fa0233ad000105b257/',\n",
       " 'https://apteka.ru/product/ksizal-5-mg-10-sht-tabletki-pokrytye-plenochnoj-obolochkoj-5e3263fbf5a9ae000140640a/',\n",
       " 'https://apteka.ru/product/lordestin-5-mg-10-sht-tabletki-pokrytye-plenochnoj-obolochkoj-5e326ce065b5ab00016535f2/',\n",
       " 'https://apteka.ru/product/fenistil-01-gel-dlya-naruzhnogo-primeneniya-30-gr-646ca6b77611b352b214c405/',\n",
       " 'https://apteka.ru/product/feniczitol-1-mgml-flakon-kapli-dlya-priema-vnutr-20-ml-62bc00b88e5448c60f981acc/',\n",
       " 'https://apteka.ru/product/lazamirt-5-mg-10-sht-blister-tabletki-pokrytye-plenochnoj-obolochkoj-661ce6feb93339cc8bee8083/',\n",
       " 'https://apteka.ru/product/blogir-3-5-mg-10-sht-tabletki-dlya-rassasyvaniya-5e326fa065b5ab0001654dec/',\n",
       " 'https://apteka.ru/product/oku-oku-5-ml-flakon-kapli-glaznye-65dc53012245a7fc2cd041d1/',\n",
       " 'https://apteka.ru/product/allervej-5-mg-10-sht-tabletki-pokrytye-plenochnoj-obolochkoj-5e32757965b5ab000165753d/',\n",
       " 'https://apteka.ru/product/levoczetirizin-5-mg-10-sht-tabletki-pokrytye-plenochnoj-obolochkoj-blister-64d6291b946be1aa62a3310f/',\n",
       " 'https://apteka.ru/product/dimetinden-akrixin-01-gel-dlya-naruzhnogo-primeneniya-30-gr-5e32725865b5ab0001655e44/',\n",
       " 'https://apteka.ru/product/fri-al-5-mg-10-sht-tabletki-pokrytye-plenochnoj-obolochkoj-63e3af0e104440ff9c3ebe7e/',\n",
       " 'https://apteka.ru/product/zirtek-10-mg-20-sht-tabletki-pokrytye-plenochnoj-obolochkoj-5e327140f5a9ae000140ca10/',\n",
       " 'https://apteka.ru/product/dezloratadin-5-mg-10-sht-tabletki-pokrytye-plenochnoj-obolochkoj-5ecb6a5931307a0001f52c03/',\n",
       " 'https://apteka.ru/product/czetrin-10-mg-20-sht-tabletki-pokrytye-plenochnoj-obolochkoj-5e3264df65b5ab000164f758/',\n",
       " 'https://apteka.ru/product/czetirizin-akos-10-mg-20-sht-tabletki-pokrytye-plenochnoj-obolochkoj-60c0a2c1327b6aa0714c1d24/',\n",
       " 'https://apteka.ru/product/czetirizin-verteks-10-mg-20-sht-tabletki-pokrytye-plenochnoj-obolochkoj-5e327158ca7bdc000193142b/']"
      ]
     },
     "execution_count": 24,
     "metadata": {},
     "output_type": "execute_result"
    }
   ],
   "source": [
    "url_joined"
   ]
  },
  {
   "cell_type": "code",
   "execution_count": 25,
   "metadata": {},
   "outputs": [],
   "source": [
    "first_link = url_joined[0]"
   ]
  },
  {
   "cell_type": "code",
   "execution_count": 27,
   "metadata": {},
   "outputs": [],
   "source": [
    "response = requests.get(first_link)"
   ]
  },
  {
   "cell_type": "code",
   "execution_count": 28,
   "metadata": {},
   "outputs": [],
   "source": [
    "soup = BeautifulSoup(response.content, 'html.parser')"
   ]
  },
  {
   "cell_type": "code",
   "execution_count": null,
   "metadata": {},
   "outputs": [],
   "source": [
    "soup"
   ]
  },
  {
   "cell_type": "code",
   "execution_count": 36,
   "metadata": {},
   "outputs": [
    {
     "data": {
      "text/plain": [
       "'Супрастинекс 5 мг 7 шт. таблетки, покрытые пленочной оболочкой'"
      ]
     },
     "execution_count": 36,
     "metadata": {},
     "output_type": "execute_result"
    }
   ],
   "source": [
    "\n",
    "name = soup.find('h1').text\n",
    "name"
   ]
  },
  {
   "cell_type": "code",
   "execution_count": 37,
   "metadata": {},
   "outputs": [],
   "source": [
    "import re"
   ]
  },
  {
   "cell_type": "code",
   "execution_count": 49,
   "metadata": {},
   "outputs": [
    {
     "data": {
      "text/plain": [
       "{'Производитель': 'Эгис Фармацевтический завод ЗАО',\n",
       " 'Форма выпуска': 'таблетки, покрытые пленочной оболочкой',\n",
       " 'Дозировка': '5 мг',\n",
       " 'Срок годности': 'Длительный срок годности'}"
      ]
     },
     "execution_count": 49,
     "metadata": {},
     "output_type": "execute_result"
    }
   ],
   "source": [
    "attribute = {}\n",
    "form = soup.find('ul', ('class', 'ProductAttributesList ProductAttributesList--preview'))\n",
    "for item in form.find_all('dl'):\n",
    "    attribute[item.find('dt').text] = item.find('p').text\n"
   ]
  },
  {
   "cell_type": "code",
   "execution_count": 69,
   "metadata": {},
   "outputs": [
    {
     "data": {
      "text/plain": [
       "'315.00 ₽'"
      ]
     },
     "execution_count": 69,
     "metadata": {},
     "output_type": "execute_result"
    }
   ],
   "source": [
    "\n",
    "price = soup.find('span', ('class', 'moneyprice__roubles')).text + soup.find('span', ('class', 'moneyprice__pennies')).text + ' ' + soup.find('span', ('class', 'moneyprice__currency')).text\n",
    "\n"
   ]
  },
  {
   "cell_type": "code",
   "execution_count": null,
   "metadata": {},
   "outputs": [],
   "source": [
    "output = {}\n",
    "for i in url_joined:\n",
    "    response = requests.get(i)\n",
    "    soup = BeautifulSoup(response.content, 'html.parser')\n",
    "\n",
    "    content1 ={}\n",
    "\n",
    "    try:\n",
    "        content1['Name'] = soup.find('h1').text\n",
    "    except:\n",
    "        content1['Name'] = ' '\n",
    "\n",
    "    try:\n",
    "        content1['Price'] = soup.find('span', ('class', 'moneyprice__roubles')).text + soup.find('span', ('class', 'moneyprice__pennies')).text + ' ' + soup.find('span', ('class', 'moneyprice__currency')).text\n",
    "    except:\n",
    "        content1['Price'] = ' '\n",
    "\n",
    "    try:\n",
    "        attribute = {}\n",
    "        form = soup.find('ul', ('class', 'ProductAttributesList ProductAttributesList--preview'))\n",
    "        for item in form.find_all('dl'):\n",
    "            attribute[item.find('dt').text] = item.find('p').text\n",
    "        content1['Attributes'] = attribute\n",
    "    except:\n",
    "        content1['Attributes'] = attribute\n",
    "    output.update(content1)\n",
    "\n",
    "output"
   ]
  },
  {
   "cell_type": "code",
   "execution_count": null,
   "metadata": {},
   "outputs": [],
   "source": [
    "df = pd.DataFrame(output)\n",
    "df"
   ]
  }
 ],
 "metadata": {
  "kernelspec": {
   "display_name": "Python 3",
   "language": "python",
   "name": "python3"
  },
  "language_info": {
   "codemirror_mode": {
    "name": "ipython",
    "version": 3
   },
   "file_extension": ".py",
   "mimetype": "text/x-python",
   "name": "python",
   "nbconvert_exporter": "python",
   "pygments_lexer": "ipython3",
   "version": "3.12.3"
  }
 },
 "nbformat": 4,
 "nbformat_minor": 2
}
