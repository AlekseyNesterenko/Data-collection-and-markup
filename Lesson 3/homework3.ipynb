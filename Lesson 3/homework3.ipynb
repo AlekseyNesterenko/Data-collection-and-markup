{
 "cells": [
  {
   "cell_type": "code",
   "execution_count": 1,
   "metadata": {},
   "outputs": [],
   "source": [
    "from pymongo import MongoClient"
   ]
  },
  {
   "cell_type": "code",
   "execution_count": 5,
   "metadata": {},
   "outputs": [],
   "source": [
    "client = MongoClient('mongodb://localhost:27017/')"
   ]
  },
  {
   "cell_type": "code",
   "execution_count": 6,
   "metadata": {},
   "outputs": [],
   "source": [
    "db = client.Books"
   ]
  },
  {
   "cell_type": "code",
   "execution_count": 12,
   "metadata": {},
   "outputs": [
    {
     "name": "stdout",
     "output_type": "stream",
     "text": [
      "{'Name': 'A Light in the Attic'}\n",
      "{'Name': 'Chase Me (Paris Nights #2)'}\n",
      "{'Name': 'Black Dust'}\n",
      "{'Name': 'Birdsong: A Story in Pictures'}\n",
      "{'Name': \"America's Cradle of Quarterbacks: Western Pennsylvania's Football Factory from Johnny Unitas to Joe Montana\"}\n",
      "{'Name': 'Aladdin and His Wonderful Lamp'}\n",
      "{'Name': 'Behind Closed Doors'}\n",
      "{'Name': 'Crown of Midnight (Throne of Glass #2)'}\n",
      "{'Name': 'Codename Baboushka, Volume 1: The Conclave of Death'}\n",
      "{'Name': 'Camp Midnight'}\n",
      "{'Name': 'Call the Nurse: True Stories of a Country Nurse on a Scottish Isle'}\n",
      "{'Name': 'Burning'}\n",
      "{'Name': 'Bossypants'}\n",
      "{'Name': 'Bitch Planet, Vol. 1: Extraordinary Machine (Bitch Planet (Collected Editions))'}\n",
      "{'Name': 'Avatar: The Last Airbender: Smoke and Shadow, Part 3 (Smoke and Shadow #3)'}\n",
      "{'Name': 'Algorithms to Live By: The Computer Science of Human Decisions'}\n",
      "{'Name': 'A World of Flavor: Your Gluten Free Passport'}\n",
      "{'Name': 'A Piece of Sky, a Grain of Rice: A Memoir in Four Meditations'}\n",
      "{'Name': 'A Murder in Time'}\n",
      "{'Name': 'A Flight of Arrows (The Pathfinders #2)'}\n",
      "{'Name': 'A Fierce and Subtle Poison'}\n",
      "{'Name': 'A Court of Thorns and Roses (A Court of Thorns and Roses #1)'}\n",
      "{'Name': 'Close to You'}\n",
      "{'Name': 'Chasing Heaven: What Dying Taught Me About Living'}\n",
      "{'Name': 'Big Magic: Creative Living Beyond Fear'}\n",
      "{'Name': 'Becoming Wise: An Inquiry into the Mystery and Art of Living'}\n",
      "{'Name': 'Beauty Restored (Riley Family Legacy Novellas #3)'}\n",
      "{'Name': 'Batman: The Long Halloween (Batman)'}\n",
      "{'Name': 'Batman: The Dark Knight Returns (Batman)'}\n",
      "{'Name': \"Ayumi's Violin\"}\n",
      "{'Name': 'Anonymous'}\n",
      "{'Name': 'Amy Meets the Saints and Sages'}\n",
      "{'Name': 'Amid the Chaos'}\n",
      "{'Name': 'Amatus'}\n",
      "{'Name': 'Agnostic: A Spirited Manifesto'}\n",
      "{'Name': 'Crazy Love: Overwhelmed by a Relentless God'}\n",
      "{'Name': 'Cometh the Hour (The Clifton Chronicles #6)'}\n",
      "{'Name': 'Code Name Verity (Code Name Verity #1)'}\n",
      "{'Name': 'Clockwork Angel (The Infernal Devices #1)'}\n",
      "{'Name': 'City of Glass (The Mortal Instruments #3)'}\n",
      "{'Name': 'City of Fallen Angels (The Mortal Instruments #4)'}\n",
      "{'Name': 'City of Bones (The Mortal Instruments #1)'}\n",
      "{'Name': 'City of Ashes (The Mortal Instruments #2)'}\n",
      "{'Name': 'Cell'}\n",
      "{'Name': 'Catching Jordan (Hundred Oaks)'}\n",
      "{'Name': 'Carry On, Warrior: Thoughts on Life Unarmed'}\n",
      "{'Name': 'Carrie'}\n",
      "{'Name': 'Buying In: The Secret Dialogue Between What We Buy and Who We Are'}\n",
      "{'Name': 'Brain on Fire: My Month of Madness'}\n",
      "{'Name': 'Batman: Europa'}\n",
      "{'Name': 'Barefoot Contessa Back to Basics'}\n",
      "{'Name': \"Barefoot Contessa at Home: Everyday Recipes You'll Make Over and Over Again\"}\n",
      "{'Name': 'Balloon Animals'}\n",
      "{'Name': 'Art Ops Vol. 1'}\n",
      "{'Name': 'Aristotle and Dante Discover the Secrets of the Universe (Aristotle and Dante Discover the Secrets of the Universe #1)'}\n",
      "{'Name': 'Angels Walking (Angels Walking #1)'}\n",
      "{'Name': 'Angels & Demons (Robert Langdon #1)'}\n",
      "{'Name': 'All the Light We Cannot See'}\n",
      "{'Name': 'Adulthood Is a Myth: A \"Sarah\\'s Scribbles\" Collection'}\n",
      "{'Name': 'Abstract City'}\n",
      "{'Name': 'A Time of Torment (Charlie Parker #14)'}\n",
      "{'Name': 'A Study in Scarlet (Sherlock Holmes #1)'}\n",
      "{'Name': 'A Series of Catastrophes and Miracles: A True Story of Love, Science, and Cancer'}\n",
      "{'Name': \"A People's History of the United States\"}\n",
      "{'Name': 'A Man Called Ove'}\n",
      "{'Name': 'A Distant Mirror: The Calamitous 14th Century'}\n",
      "{'Name': 'A Brush of Wings (Angels Walking #3)'}\n",
      "{'Name': 'Can You Keep a Secret? (Fear Street Relaunch #4)'}\n",
      "{'Name': 'Boar Island (Anna Pigeon #19)'}\n",
      "{'Name': 'A Paris Apartment'}\n",
      "{'Name': 'A la Mode: 120 Recipes in 60 Pairings: Pies, Tarts, Cakes, Crisps, and More Topped with Ice Cream, Gelato, Frozen Custard, and More'}\n",
      "{'Name': 'Cravings: Recipes for What You Want to Eat'}\n",
      "{'Name': 'Born for This: How to Find the Work You Were Meant to Do'}\n",
      "{'Name': 'Arena'}\n",
      "{'Name': 'Adultery'}\n",
      "{'Name': \"A Mother's Reckoning: Living in the Aftermath of Tragedy\"}\n",
      "{'Name': \"A Gentleman's Position (Society of Gentlemen #3)\"}\n",
      "{'Name': \"Chernobyl 01:23:40: The Incredible True Story of the World's Worst Nuclear Disaster\"}\n",
      "{'Name': 'Art and Fear: Observations on the Perils (and Rewards) of Artmaking'}\n",
      "{'Name': 'A Shard of Ice (The Black Symphony Saga #1)'}\n",
      "{'Name': \"A Hero's Curse (The Unseen Chronicles #1)\"}\n",
      "{'Name': 'Brilliant Beacons: A History of the American Lighthouse'}\n",
      "{'Name': \"Brazen: The Courage to Find the You That's Been Hiding\"}\n",
      "{'Name': 'Between the World and Me'}\n",
      "{'Name': 'Being Mortal: Medicine and What Matters in the End'}\n",
      "{'Name': 'A Murder Over a Girl: Justice, Gender, Junior High'}\n",
      "{'Name': 'Counted With the Stars (Out from Egypt #1)'}\n",
      "{'Name': 'Chronicles, Vol. 1'}\n",
      "{'Name': 'Blue Like Jazz: Nonreligious Thoughts on Christian Spirituality'}\n",
      "{'Name': 'Benjamin Franklin: An American Life'}\n",
      "{'Name': 'At The Existentialist Café: Freedom, Being, and apricot cocktails with: Jean-Paul Sartre, Simone de Beauvoir, Albert Camus, Martin Heidegger, Edmund Husserl, Karl Jaspers, Maurice Merleau-Ponty and others'}\n",
      "{'Name': 'A Summer In Europe'}\n",
      "{'Name': 'A Short History of Nearly Everything'}\n",
      "{'Name': 'A Gathering of Shadows (Shades of Magic #2)'}\n",
      "{'Name': 'Catherine the Great: Portrait of a Woman'}\n",
      "{'Name': 'Better Homes and Gardens New Cook Book'}\n",
      "{'Name': 'An Unquiet Mind: A Memoir of Moods and Madness'}\n",
      "{'Name': 'A Year in Provence (Provence #1)'}\n",
      "{'Name': 'Critique of Pure Reason'}\n",
      "{'Name': 'Booked'}\n",
      "{'Name': 'Blue Lily, Lily Blue (The Raven Cycle #3)'}\n",
      "{'Name': 'Approval Junkie: Adventures in Caring Too Much'}\n",
      "{'Name': 'An Abundance of Katherines'}\n",
      "{'Name': \"America's War for the Greater Middle East: A Military History\"}\n",
      "{'Name': 'Alight (The Generations Trilogy #2)'}\n",
      "{'Name': \"A Girl's Guide to Moving On (New Beginnings #2)\"}\n",
      "{'Name': 'A Game of Thrones (A Song of Ice and Fire #1)'}\n",
      "{'Name': 'A Feast for Crows (A Song of Ice and Fire #4)'}\n",
      "{'Name': 'A Clash of Kings (A Song of Ice and Fire #2)'}\n",
      "{'Name': 'Confessions of a Shopaholic (Shopaholic #1)'}\n",
      "{'Name': 'Changing the Game (Play by Play #2)'}\n",
      "{'Name': 'Candide'}\n",
      "{'Name': 'Can You Keep a Secret?'}\n",
      "{'Name': 'Atlas Shrugged'}\n",
      "{'Name': 'Animal Farm'}\n",
      "{'Name': 'A Walk to Remember'}\n",
      "{'Name': \"A New Earth: Awakening to Your Life's Purpose\"}\n",
      "{'Name': 'A History of God: The 4,000-Year Quest of Judaism, Christianity, and Islam'}\n",
      "{'Name': 'Crazy Rich Asians (Crazy Rich Asians #1)'}\n",
      "{'Name': 'Counting Thyme'}\n",
      "{'Name': 'Cosmos'}\n",
      "{'Name': 'Civilization and Its Discontents'}\n",
      "{'Name': 'Cinder (The Lunar Chronicles #1)'}\n",
      "{'Name': \"Catastrophic Happiness: Finding Joy in Childhood's Messy Years\"}\n",
      "{'Name': 'Career of Evil (Cormoran Strike #3)'}\n",
      "{'Name': 'Breaking Dawn (Twilight #4)'}\n",
      "{'Name': 'Brave Enough'}\n",
      "{'Name': 'Boy Meets Boy'}\n",
      "{'Name': 'Born to Run: A Hidden Tribe, Superathletes, and the Greatest Race the World Has Never Seen'}\n",
      "{'Name': 'Blink: The Power of Thinking Without Thinking'}\n",
      "{'Name': 'Black Flags: The Rise of ISIS'}\n",
      "{'Name': 'Black Butler, Vol. 1 (Black Butler #1)'}\n",
      "{'Name': 'Big Little Lies'}\n",
      "{'Name': 'Between Shades of Gray'}\n",
      "{'Name': \"Best of My Love (Fool's Gold #20)\"}\n",
      "{'Name': 'Beowulf'}\n",
      "{'Name': 'Beautiful Creatures (Caster Chronicles #1)'}\n",
      "{'Name': 'Awkward'}\n",
      "{'Name': 'Ash'}\n",
      "{'Name': 'Are We There Yet?'}\n",
      "{'Name': 'Are We Smart Enough to Know How Smart Animals Are?'}\n",
      "{'Name': 'Annie on My Mind'}\n",
      "{'Name': 'And Then There Were None'}\n",
      "{'Name': 'A Walk in the Woods: Rediscovering America on the Appalachian Trail'}\n",
      "{'Name': 'A Visit from the Goon Squad'}\n",
      "{'Name': 'A Storm of Swords (A Song of Ice and Fire #3)'}\n",
      "{'Name': 'A Heartbreaking Work of Staggering Genius'}\n",
      "{'Name': \"Choosing Our Religion: The Spiritual Lives of America's Nones\"}\n",
      "{'Name': 'Charlie and the Chocolate Factory (Charlie Bucket #1)'}\n",
      "{'Name': \"Charity's Cross (Charles Towne Belles #4)\"}\n",
      "{'Name': 'Bright Lines'}\n",
      "{'Name': \"Bridget Jones's Diary (Bridget Jones #1)\"}\n",
      "{'Name': 'Bounty (Colorado Mountain #7)'}\n",
      "{'Name': 'Blood Defense (Samantha Brinkman #1)'}\n",
      "{'Name': 'Bleach, Vol. 1: Strawberry and the Soul Reapers (Bleach #1)'}\n",
      "{'Name': 'Beyond Good and Evil'}\n",
      "{'Name': \"Alice in Wonderland (Alice's Adventures in Wonderland #1)\"}\n",
      "{'Name': 'Ajin: Demi-Human, Volume 1 (Ajin: Demi-Human #1)'}\n",
      "{'Name': \"A Spy's Devotion (The Regency Spies of London #1)\"}\n",
      "Число книг: 159\n"
     ]
    }
   ],
   "source": [
    "def find():\n",
    "    \n",
    "    query = {\"Name\" : {\"$gte\" : \"A\", \"$lt\" : \"D\"}}\n",
    "\n",
    "    projection = {\"_id\" : 0, \"Name\" : 1}\n",
    "\n",
    "    books = db.Books.find(query, projection)\n",
    "    \n",
    "    num_books = 0\n",
    "    for i in books:\n",
    "        print(i)\n",
    "        num_books += 1\n",
    "        \n",
    "    print('Число книг: %d' % num_books)\n",
    "\n",
    "    for a in books:\n",
    "        print(a)\n",
    "        \n",
    "if __name__ == '__main__':\n",
    "    find()"
   ]
  },
  {
   "cell_type": "code",
   "execution_count": 1,
   "metadata": {},
   "outputs": [],
   "source": [
    "from clickhouse_driver import Client"
   ]
  },
  {
   "cell_type": "code",
   "execution_count": 2,
   "metadata": {},
   "outputs": [
    {
     "name": "stdout",
     "output_type": "stream",
     "text": [
      "[]\n"
     ]
    }
   ],
   "source": [
    "client = Client(host='localhost',  # Use 'localhost' or '127.0.0.1' for a local server\n",
    "                user='default',    # Default user, adjust if you've changed the user\n",
    "                password='',       # Default installation has no password for 'default' user\n",
    "                port=9000)         # Default TCP port for ClickHouse\n",
    "\n",
    "# Attempt to execute a query\n",
    "try:\n",
    "    result = client.execute('SHOW TABLES')\n",
    "    print(result)\n",
    "except Exception as e:\n",
    "    print(f\"Encountered an error: {e}\")"
   ]
  },
  {
   "cell_type": "code",
   "execution_count": 7,
   "metadata": {},
   "outputs": [
    {
     "data": {
      "text/plain": [
       "[]"
      ]
     },
     "execution_count": 7,
     "metadata": {},
     "output_type": "execute_result"
    }
   ],
   "source": [
    "client.execute (\n",
    "'''\n",
    "CREATE TABLE books\n",
    "(\n",
    "    `book_id` UInt32,\n",
    "    `name` String,\n",
    "    `price` String,\n",
    "    `Availability` String,\n",
    "    `Description` String\n",
    ")\n",
    "ENGINE = MergeTree\n",
    "ORDER BY name;\n",
    "'''\n",
    ")"
   ]
  },
  {
   "cell_type": "code",
   "execution_count": 8,
   "metadata": {},
   "outputs": [
    {
     "data": {
      "text/plain": [
       "[('books',)]"
      ]
     },
     "execution_count": 8,
     "metadata": {},
     "output_type": "execute_result"
    }
   ],
   "source": [
    "client.execute('SHOW TABLES')"
   ]
  },
  {
   "cell_type": "code",
   "execution_count": 13,
   "metadata": {},
   "outputs": [],
   "source": [
    "import json"
   ]
  },
  {
   "cell_type": "code",
   "execution_count": null,
   "metadata": {},
   "outputs": [],
   "source": [
    "data = json.load('Books.Books.json')\n",
    "for item in data:\n",
    "\n",
    "    # Вставка данных о книгах\n",
    "    client.execute(\"\"\"\n",
    "    INSERT INTO books(\n",
    "        book_id, name,\n",
    "        price, Availability, Description\n",
    "    ) VALUES\"\"\",\n",
    "    [(item['book_id'],\n",
    "      item['name'],\n",
    "      item['price'],\n",
    "      item['Availability'],\n",
    "      item['Description'])])"
   ]
  }
 ],
 "metadata": {
  "kernelspec": {
   "display_name": "Python 3",
   "language": "python",
   "name": "python3"
  },
  "language_info": {
   "codemirror_mode": {
    "name": "ipython",
    "version": 3
   },
   "file_extension": ".py",
   "mimetype": "text/x-python",
   "name": "python",
   "nbconvert_exporter": "python",
   "pygments_lexer": "ipython3",
   "version": "3.12.3"
  }
 },
 "nbformat": 4,
 "nbformat_minor": 2
}
